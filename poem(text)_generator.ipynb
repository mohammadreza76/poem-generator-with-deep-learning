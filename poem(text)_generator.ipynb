{
  "nbformat": 4,
  "nbformat_minor": 0,
  "metadata": {
    "colab": {
      "name": "poem(text) generator.ipynb",
      "provenance": [],
      "collapsed_sections": [],
      "authorship_tag": "ABX9TyMQRUJy0D13OsbIfSmZuA2D",
      "include_colab_link": true
    },
    "kernelspec": {
      "name": "python3",
      "display_name": "Python 3"
    },
    "accelerator": "TPU"
  },
  "cells": [
    {
      "cell_type": "markdown",
      "metadata": {
        "id": "view-in-github",
        "colab_type": "text"
      },
      "source": [
        "<a href=\"https://colab.research.google.com/github/mohammadreza76/poem-generator-with-deep-learning/blob/main/poem(text)_generator.ipynb\" target=\"_parent\"><img src=\"https://colab.research.google.com/assets/colab-badge.svg\" alt=\"Open In Colab\"/></a>"
      ]
    },
    {
      "cell_type": "code",
      "metadata": {
        "id": "ojhLqk6Ru7Hc"
      },
      "source": [
        "import numpy as np\n",
        "import pandas as pd\n",
        "import matplotlib.pyplot as plt\n",
        "import tensorflow as tf"
      ],
      "execution_count": 1,
      "outputs": []
    },
    {
      "cell_type": "code",
      "metadata": {
        "id": "pxr_MEzX_F9m"
      },
      "source": [
        "file = open(\"naserkhosro.txt\",'r')\n",
        "data = file.read()"
      ],
      "execution_count": 2,
      "outputs": []
    },
    {
      "cell_type": "code",
      "metadata": {
        "colab": {
          "base_uri": "https://localhost:8080/",
          "height": 74
        },
        "id": "Xls2xmb1Aycz",
        "outputId": "ddf3c61b-3a58-49d6-e43b-d9b05153eb0c"
      },
      "source": [
        "data[:300]"
      ],
      "execution_count": 3,
      "outputs": [
        {
          "output_type": "execute_result",
          "data": {
            "application/vnd.google.colaboratory.intrinsic+json": {
              "type": "string"
            },
            "text/plain": [
              "'ای قبهٔ گردندهٔ بی روزن خضرا\\nبا قامت فرتوتی و با قوت برنا\\nفرزند توایم ای فلک، ای مادر بدمهر\\nای مادر ما چونکه همی کین کشی از ما؟\\nفرزند تو این تیره تن خامش خاکی است\\nپاکیزه خرد نیست نه این جوهر گویا\\nتن خانهٔ این گوهر والای شریف است\\nتو مادر این خانهٔ این گوهر والا\\nچون کار خود امروز در این خانه بسازم\\nمفر'"
            ]
          },
          "metadata": {
            "tags": []
          },
          "execution_count": 3
        }
      ]
    },
    {
      "cell_type": "code",
      "metadata": {
        "colab": {
          "base_uri": "https://localhost:8080/"
        },
        "id": "OEmtFdxiAzj4",
        "outputId": "e43d93f4-4998-4e10-f07f-5ad233acd23a"
      },
      "source": [
        "len(data)"
      ],
      "execution_count": 4,
      "outputs": [
        {
          "output_type": "execute_result",
          "data": {
            "text/plain": [
              "633429"
            ]
          },
          "metadata": {
            "tags": []
          },
          "execution_count": 4
        }
      ]
    },
    {
      "cell_type": "code",
      "metadata": {
        "id": "otJlhhF7A96A"
      },
      "source": [
        "alpha = sorted(set(data))"
      ],
      "execution_count": 5,
      "outputs": []
    },
    {
      "cell_type": "code",
      "metadata": {
        "colab": {
          "base_uri": "https://localhost:8080/"
        },
        "id": "bNNXyVYABEQz",
        "outputId": "d0754646-2872-439c-f218-d0b47f95a4c0"
      },
      "source": [
        "len(alpha)"
      ],
      "execution_count": 6,
      "outputs": [
        {
          "output_type": "execute_result",
          "data": {
            "text/plain": [
              "50"
            ]
          },
          "metadata": {
            "tags": []
          },
          "execution_count": 6
        }
      ]
    },
    {
      "cell_type": "code",
      "metadata": {
        "id": "XS5MdiIKBGp0",
        "colab": {
          "base_uri": "https://localhost:8080/"
        },
        "outputId": "a63bcae4-1aca-492a-9abc-dabdadb5fe4a"
      },
      "source": [
        "alpha"
      ],
      "execution_count": 7,
      "outputs": [
        {
          "output_type": "execute_result",
          "data": {
            "text/plain": [
              "['\\n',\n",
              " ' ',\n",
              " '!',\n",
              " '(',\n",
              " ')',\n",
              " '.',\n",
              " ':',\n",
              " '«',\n",
              " '»',\n",
              " '،',\n",
              " '؛',\n",
              " '؟',\n",
              " 'ء',\n",
              " 'آ',\n",
              " 'ؤ',\n",
              " 'ئ',\n",
              " 'ا',\n",
              " 'ب',\n",
              " 'ة',\n",
              " 'ت',\n",
              " 'ث',\n",
              " 'ج',\n",
              " 'ح',\n",
              " 'خ',\n",
              " 'د',\n",
              " 'ذ',\n",
              " 'ر',\n",
              " 'ز',\n",
              " 'س',\n",
              " 'ش',\n",
              " 'ص',\n",
              " 'ض',\n",
              " 'ط',\n",
              " 'ظ',\n",
              " 'ع',\n",
              " 'غ',\n",
              " 'ف',\n",
              " 'ق',\n",
              " 'ل',\n",
              " 'م',\n",
              " 'ن',\n",
              " 'ه',\n",
              " 'و',\n",
              " 'ٔ',\n",
              " 'پ',\n",
              " 'چ',\n",
              " 'ژ',\n",
              " 'ک',\n",
              " 'گ',\n",
              " 'ی']"
            ]
          },
          "metadata": {
            "tags": []
          },
          "execution_count": 7
        }
      ]
    },
    {
      "cell_type": "code",
      "metadata": {
        "colab": {
          "base_uri": "https://localhost:8080/",
          "height": 36
        },
        "id": "Jr9MrHQTIwV3",
        "outputId": "714c2527-2faf-4250-d181-8520ccc6b6cd"
      },
      "source": [
        "alpha[3]"
      ],
      "execution_count": 8,
      "outputs": [
        {
          "output_type": "execute_result",
          "data": {
            "application/vnd.google.colaboratory.intrinsic+json": {
              "type": "string"
            },
            "text/plain": [
              "'('"
            ]
          },
          "metadata": {
            "tags": []
          },
          "execution_count": 8
        }
      ]
    },
    {
      "cell_type": "code",
      "metadata": {
        "id": "khYs6_7WI-m3"
      },
      "source": [
        "char2index = {c:i for i,c in enumerate(alpha)} "
      ],
      "execution_count": 10,
      "outputs": []
    },
    {
      "cell_type": "code",
      "metadata": {
        "colab": {
          "base_uri": "https://localhost:8080/"
        },
        "id": "xyQuOOtMJdFs",
        "outputId": "0e0d950a-c72d-4252-d0a1-69c7a70d9c2f"
      },
      "source": [
        "char2index"
      ],
      "execution_count": 11,
      "outputs": [
        {
          "output_type": "execute_result",
          "data": {
            "text/plain": [
              "{'\\n': 0,\n",
              " ' ': 1,\n",
              " '!': 2,\n",
              " '(': 3,\n",
              " ')': 4,\n",
              " '.': 5,\n",
              " ':': 6,\n",
              " '«': 7,\n",
              " '»': 8,\n",
              " '،': 9,\n",
              " '؛': 10,\n",
              " '؟': 11,\n",
              " 'ء': 12,\n",
              " 'آ': 13,\n",
              " 'ؤ': 14,\n",
              " 'ئ': 15,\n",
              " 'ا': 16,\n",
              " 'ب': 17,\n",
              " 'ة': 18,\n",
              " 'ت': 19,\n",
              " 'ث': 20,\n",
              " 'ج': 21,\n",
              " 'ح': 22,\n",
              " 'خ': 23,\n",
              " 'د': 24,\n",
              " 'ذ': 25,\n",
              " 'ر': 26,\n",
              " 'ز': 27,\n",
              " 'س': 28,\n",
              " 'ش': 29,\n",
              " 'ص': 30,\n",
              " 'ض': 31,\n",
              " 'ط': 32,\n",
              " 'ظ': 33,\n",
              " 'ع': 34,\n",
              " 'غ': 35,\n",
              " 'ف': 36,\n",
              " 'ق': 37,\n",
              " 'ل': 38,\n",
              " 'م': 39,\n",
              " 'ن': 40,\n",
              " 'ه': 41,\n",
              " 'و': 42,\n",
              " 'ٔ': 43,\n",
              " 'پ': 44,\n",
              " 'چ': 45,\n",
              " 'ژ': 46,\n",
              " 'ک': 47,\n",
              " 'گ': 48,\n",
              " 'ی': 49}"
            ]
          },
          "metadata": {
            "tags": []
          },
          "execution_count": 11
        }
      ]
    },
    {
      "cell_type": "code",
      "metadata": {
        "id": "J56p-zZ7JqLT"
      },
      "source": [
        "index2char = np.array(alpha)"
      ],
      "execution_count": 12,
      "outputs": []
    },
    {
      "cell_type": "code",
      "metadata": {
        "colab": {
          "base_uri": "https://localhost:8080/"
        },
        "id": "oXGdd_8eJzfU",
        "outputId": "cb77a606-413b-4155-e39c-7afc5bd0e156"
      },
      "source": [
        "index2char"
      ],
      "execution_count": 13,
      "outputs": [
        {
          "output_type": "execute_result",
          "data": {
            "text/plain": [
              "array(['\\n', ' ', '!', '(', ')', '.', ':', '«', '»', '،', '؛', '؟', 'ء',\n",
              "       'آ', 'ؤ', 'ئ', 'ا', 'ب', 'ة', 'ت', 'ث', 'ج', 'ح', 'خ', 'د', 'ذ',\n",
              "       'ر', 'ز', 'س', 'ش', 'ص', 'ض', 'ط', 'ظ', 'ع', 'غ', 'ف', 'ق', 'ل',\n",
              "       'م', 'ن', 'ه', 'و', 'ٔ', 'پ', 'چ', 'ژ', 'ک', 'گ', 'ی'], dtype='<U1')"
            ]
          },
          "metadata": {
            "tags": []
          },
          "execution_count": 13
        }
      ]
    },
    {
      "cell_type": "code",
      "metadata": {
        "id": "jvZGI5q9J0gn"
      },
      "source": [
        "text_as_int = np.array([char2index[c]  for c in data])"
      ],
      "execution_count": 15,
      "outputs": []
    },
    {
      "cell_type": "code",
      "metadata": {
        "colab": {
          "base_uri": "https://localhost:8080/"
        },
        "id": "s1soR2ZBKXWL",
        "outputId": "b3eb530c-7453-408b-b832-cf3a6a23d295"
      },
      "source": [
        "print('{')\n",
        "for char,_ in zip(char2index,range(18)):\n",
        "  print(\"  {:4s} : {:3d}\".format(repr(char),char2index[char]))\n",
        "print(\"...}\") "
      ],
      "execution_count": 17,
      "outputs": [
        {
          "output_type": "stream",
          "text": [
            "{\n",
            "  '\\n' :   0\n",
            "  ' '  :   1\n",
            "  '!'  :   2\n",
            "  '('  :   3\n",
            "  ')'  :   4\n",
            "  '.'  :   5\n",
            "  ':'  :   6\n",
            "  '«'  :   7\n",
            "  '»'  :   8\n",
            "  '،'  :   9\n",
            "  '؛'  :  10\n",
            "  '؟'  :  11\n",
            "  'ء'  :  12\n",
            "  'آ'  :  13\n",
            "  'ؤ'  :  14\n",
            "  'ئ'  :  15\n",
            "  'ا'  :  16\n",
            "  'ب'  :  17\n",
            "...}\n"
          ],
          "name": "stdout"
        }
      ]
    },
    {
      "cell_type": "code",
      "metadata": {
        "colab": {
          "base_uri": "https://localhost:8080/"
        },
        "id": "9YkGyO_PMURP",
        "outputId": "93065300-cfd6-4f9b-88da-d65f2eccc534"
      },
      "source": [
        "print(set(zip(char2index,range(18))))"
      ],
      "execution_count": 20,
      "outputs": [
        {
          "output_type": "stream",
          "text": [
            "{('\\n', 0), (' ', 1), ('،', 9), ('ا', 16), (':', 6), ('ء', 12), ('آ', 13), ('»', 8), ('ئ', 15), ('؟', 11), ('!', 2), ('.', 5), ('ب', 17), ('؛', 10), (')', 4), ('ؤ', 14), ('«', 7), ('(', 3)}\n"
          ],
          "name": "stdout"
        }
      ]
    },
    {
      "cell_type": "code",
      "metadata": {
        "colab": {
          "base_uri": "https://localhost:8080/"
        },
        "id": "DCaOazrSMqNo",
        "outputId": "adf3b025-3d0d-4036-f875-b91b5107de44"
      },
      "source": [
        "char2index['(']"
      ],
      "execution_count": 21,
      "outputs": [
        {
          "output_type": "execute_result",
          "data": {
            "text/plain": [
              "3"
            ]
          },
          "metadata": {
            "tags": []
          },
          "execution_count": 21
        }
      ]
    },
    {
      "cell_type": "code",
      "metadata": {
        "id": "MKX7nYQMNP4T"
      },
      "source": [
        ""
      ],
      "execution_count": null,
      "outputs": []
    }
  ]
}