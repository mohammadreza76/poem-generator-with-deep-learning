{
  "nbformat": 4,
  "nbformat_minor": 0,
  "metadata": {
    "colab": {
      "name": "poem(text) generator.ipynb",
      "provenance": [],
      "collapsed_sections": [],
      "authorship_tag": "ABX9TyPlvEn13DwYx4S5S5bJD+/5",
      "include_colab_link": true
    },
    "kernelspec": {
      "name": "python3",
      "display_name": "Python 3"
    },
    "accelerator": "TPU"
  },
  "cells": [
    {
      "cell_type": "markdown",
      "metadata": {
        "id": "view-in-github",
        "colab_type": "text"
      },
      "source": [
        "<a href=\"https://colab.research.google.com/github/mohammadreza76/poem-generator-with-deep-learning/blob/main/poem(text)_generator.ipynb\" target=\"_parent\"><img src=\"https://colab.research.google.com/assets/colab-badge.svg\" alt=\"Open In Colab\"/></a>"
      ]
    },
    {
      "cell_type": "code",
      "metadata": {
        "id": "ojhLqk6Ru7Hc"
      },
      "source": [
        "import numpy as np\n",
        "import pandas as pd\n",
        "import matplotlib.pyplot as plt\n",
        "import tensorflow as tf\n",
        "from keras.models import Sequential\n",
        "from keras.layers import Dense,GRU,Embedding"
      ],
      "execution_count": 1,
      "outputs": []
    },
    {
      "cell_type": "code",
      "metadata": {
        "id": "pxr_MEzX_F9m"
      },
      "source": [
        "file = open(\"naserkhosro.txt\",'r')\n",
        "data = file.read()"
      ],
      "execution_count": 2,
      "outputs": []
    },
    {
      "cell_type": "code",
      "metadata": {
        "colab": {
          "base_uri": "https://localhost:8080/",
          "height": 74
        },
        "id": "Xls2xmb1Aycz",
        "outputId": "16cf41b8-8814-42f0-bfa5-33f81f8ed852"
      },
      "source": [
        "data[:300]"
      ],
      "execution_count": 3,
      "outputs": [
        {
          "output_type": "execute_result",
          "data": {
            "application/vnd.google.colaboratory.intrinsic+json": {
              "type": "string"
            },
            "text/plain": [
              "'ای قبهٔ گردندهٔ بی روزن خضرا\\nبا قامت فرتوتی و با قوت برنا\\nفرزند توایم ای فلک، ای مادر بدمهر\\nای مادر ما چونکه همی کین کشی از ما؟\\nفرزند تو این تیره تن خامش خاکی است\\nپاکیزه خرد نیست نه این جوهر گویا\\nتن خانهٔ این گوهر والای شریف است\\nتو مادر این خانهٔ این گوهر والا\\nچون کار خود امروز در این خانه بسازم\\nمفر'"
            ]
          },
          "metadata": {
            "tags": []
          },
          "execution_count": 3
        }
      ]
    },
    {
      "cell_type": "code",
      "metadata": {
        "colab": {
          "base_uri": "https://localhost:8080/"
        },
        "id": "OEmtFdxiAzj4",
        "outputId": "15547cf9-aa34-43a5-f6d7-1f21bd7314a5"
      },
      "source": [
        "len(data)"
      ],
      "execution_count": 4,
      "outputs": [
        {
          "output_type": "execute_result",
          "data": {
            "text/plain": [
              "633429"
            ]
          },
          "metadata": {
            "tags": []
          },
          "execution_count": 4
        }
      ]
    },
    {
      "cell_type": "code",
      "metadata": {
        "id": "otJlhhF7A96A"
      },
      "source": [
        "alpha = sorted(set(data))"
      ],
      "execution_count": 5,
      "outputs": []
    },
    {
      "cell_type": "code",
      "metadata": {
        "colab": {
          "base_uri": "https://localhost:8080/"
        },
        "id": "bNNXyVYABEQz",
        "outputId": "bc57ca35-abba-43f0-9cb7-4ca118f72c73"
      },
      "source": [
        "len(alpha)"
      ],
      "execution_count": 6,
      "outputs": [
        {
          "output_type": "execute_result",
          "data": {
            "text/plain": [
              "50"
            ]
          },
          "metadata": {
            "tags": []
          },
          "execution_count": 6
        }
      ]
    },
    {
      "cell_type": "code",
      "metadata": {
        "id": "XS5MdiIKBGp0",
        "colab": {
          "base_uri": "https://localhost:8080/"
        },
        "outputId": "278f138d-8e5f-4757-b875-50357289e241"
      },
      "source": [
        "alpha"
      ],
      "execution_count": 7,
      "outputs": [
        {
          "output_type": "execute_result",
          "data": {
            "text/plain": [
              "['\\n',\n",
              " ' ',\n",
              " '!',\n",
              " '(',\n",
              " ')',\n",
              " '.',\n",
              " ':',\n",
              " '«',\n",
              " '»',\n",
              " '،',\n",
              " '؛',\n",
              " '؟',\n",
              " 'ء',\n",
              " 'آ',\n",
              " 'ؤ',\n",
              " 'ئ',\n",
              " 'ا',\n",
              " 'ب',\n",
              " 'ة',\n",
              " 'ت',\n",
              " 'ث',\n",
              " 'ج',\n",
              " 'ح',\n",
              " 'خ',\n",
              " 'د',\n",
              " 'ذ',\n",
              " 'ر',\n",
              " 'ز',\n",
              " 'س',\n",
              " 'ش',\n",
              " 'ص',\n",
              " 'ض',\n",
              " 'ط',\n",
              " 'ظ',\n",
              " 'ع',\n",
              " 'غ',\n",
              " 'ف',\n",
              " 'ق',\n",
              " 'ل',\n",
              " 'م',\n",
              " 'ن',\n",
              " 'ه',\n",
              " 'و',\n",
              " 'ٔ',\n",
              " 'پ',\n",
              " 'چ',\n",
              " 'ژ',\n",
              " 'ک',\n",
              " 'گ',\n",
              " 'ی']"
            ]
          },
          "metadata": {
            "tags": []
          },
          "execution_count": 7
        }
      ]
    },
    {
      "cell_type": "code",
      "metadata": {
        "colab": {
          "base_uri": "https://localhost:8080/",
          "height": 36
        },
        "id": "Jr9MrHQTIwV3",
        "outputId": "918e16cd-f425-4f17-be73-cb290d66a97a"
      },
      "source": [
        "alpha[3]"
      ],
      "execution_count": 8,
      "outputs": [
        {
          "output_type": "execute_result",
          "data": {
            "application/vnd.google.colaboratory.intrinsic+json": {
              "type": "string"
            },
            "text/plain": [
              "'('"
            ]
          },
          "metadata": {
            "tags": []
          },
          "execution_count": 8
        }
      ]
    },
    {
      "cell_type": "code",
      "metadata": {
        "id": "khYs6_7WI-m3"
      },
      "source": [
        "char2index = {c:i for i,c in enumerate(alpha)} "
      ],
      "execution_count": 9,
      "outputs": []
    },
    {
      "cell_type": "code",
      "metadata": {
        "colab": {
          "base_uri": "https://localhost:8080/"
        },
        "id": "xyQuOOtMJdFs",
        "outputId": "3c7ce8a3-dd06-4077-84b7-20098e529a56"
      },
      "source": [
        "char2index"
      ],
      "execution_count": 10,
      "outputs": [
        {
          "output_type": "execute_result",
          "data": {
            "text/plain": [
              "{'\\n': 0,\n",
              " ' ': 1,\n",
              " '!': 2,\n",
              " '(': 3,\n",
              " ')': 4,\n",
              " '.': 5,\n",
              " ':': 6,\n",
              " '«': 7,\n",
              " '»': 8,\n",
              " '،': 9,\n",
              " '؛': 10,\n",
              " '؟': 11,\n",
              " 'ء': 12,\n",
              " 'آ': 13,\n",
              " 'ؤ': 14,\n",
              " 'ئ': 15,\n",
              " 'ا': 16,\n",
              " 'ب': 17,\n",
              " 'ة': 18,\n",
              " 'ت': 19,\n",
              " 'ث': 20,\n",
              " 'ج': 21,\n",
              " 'ح': 22,\n",
              " 'خ': 23,\n",
              " 'د': 24,\n",
              " 'ذ': 25,\n",
              " 'ر': 26,\n",
              " 'ز': 27,\n",
              " 'س': 28,\n",
              " 'ش': 29,\n",
              " 'ص': 30,\n",
              " 'ض': 31,\n",
              " 'ط': 32,\n",
              " 'ظ': 33,\n",
              " 'ع': 34,\n",
              " 'غ': 35,\n",
              " 'ف': 36,\n",
              " 'ق': 37,\n",
              " 'ل': 38,\n",
              " 'م': 39,\n",
              " 'ن': 40,\n",
              " 'ه': 41,\n",
              " 'و': 42,\n",
              " 'ٔ': 43,\n",
              " 'پ': 44,\n",
              " 'چ': 45,\n",
              " 'ژ': 46,\n",
              " 'ک': 47,\n",
              " 'گ': 48,\n",
              " 'ی': 49}"
            ]
          },
          "metadata": {
            "tags": []
          },
          "execution_count": 10
        }
      ]
    },
    {
      "cell_type": "code",
      "metadata": {
        "id": "J56p-zZ7JqLT"
      },
      "source": [
        "index2char = np.array(alpha)"
      ],
      "execution_count": 11,
      "outputs": []
    },
    {
      "cell_type": "code",
      "metadata": {
        "colab": {
          "base_uri": "https://localhost:8080/"
        },
        "id": "oXGdd_8eJzfU",
        "outputId": "b024e5ed-ccc4-4028-ea1f-ffeba4526637"
      },
      "source": [
        "index2char"
      ],
      "execution_count": 12,
      "outputs": [
        {
          "output_type": "execute_result",
          "data": {
            "text/plain": [
              "array(['\\n', ' ', '!', '(', ')', '.', ':', '«', '»', '،', '؛', '؟', 'ء',\n",
              "       'آ', 'ؤ', 'ئ', 'ا', 'ب', 'ة', 'ت', 'ث', 'ج', 'ح', 'خ', 'د', 'ذ',\n",
              "       'ر', 'ز', 'س', 'ش', 'ص', 'ض', 'ط', 'ظ', 'ع', 'غ', 'ف', 'ق', 'ل',\n",
              "       'م', 'ن', 'ه', 'و', 'ٔ', 'پ', 'چ', 'ژ', 'ک', 'گ', 'ی'], dtype='<U1')"
            ]
          },
          "metadata": {
            "tags": []
          },
          "execution_count": 12
        }
      ]
    },
    {
      "cell_type": "code",
      "metadata": {
        "id": "jvZGI5q9J0gn"
      },
      "source": [
        "text_as_int = np.array([char2index[c]  for c in data])"
      ],
      "execution_count": 13,
      "outputs": []
    },
    {
      "cell_type": "code",
      "metadata": {
        "colab": {
          "base_uri": "https://localhost:8080/"
        },
        "id": "s1soR2ZBKXWL",
        "outputId": "104fa69f-3c67-4c42-d498-05b42fa16f57"
      },
      "source": [
        "print('{')\n",
        "for char,_ in zip(char2index,range(18)):\n",
        "  print(\"  {:4s} : {:3d}\".format(repr(char),char2index[char]))\n",
        "print(\"...}\") "
      ],
      "execution_count": 14,
      "outputs": [
        {
          "output_type": "stream",
          "text": [
            "{\n",
            "  '\\n' :   0\n",
            "  ' '  :   1\n",
            "  '!'  :   2\n",
            "  '('  :   3\n",
            "  ')'  :   4\n",
            "  '.'  :   5\n",
            "  ':'  :   6\n",
            "  '«'  :   7\n",
            "  '»'  :   8\n",
            "  '،'  :   9\n",
            "  '؛'  :  10\n",
            "  '؟'  :  11\n",
            "  'ء'  :  12\n",
            "  'آ'  :  13\n",
            "  'ؤ'  :  14\n",
            "  'ئ'  :  15\n",
            "  'ا'  :  16\n",
            "  'ب'  :  17\n",
            "...}\n"
          ],
          "name": "stdout"
        }
      ]
    },
    {
      "cell_type": "code",
      "metadata": {
        "colab": {
          "base_uri": "https://localhost:8080/"
        },
        "id": "9YkGyO_PMURP",
        "outputId": "ffe54c89-b717-4684-8bbe-e2fad6be7801"
      },
      "source": [
        "print(set(zip(char2index,range(18))))"
      ],
      "execution_count": 15,
      "outputs": [
        {
          "output_type": "stream",
          "text": [
            "{('(', 3), ('ؤ', 14), ('؛', 10), ('،', 9), ('ب', 17), ('»', 8), ('ا', 16), ('؟', 11), ('ء', 12), ('ئ', 15), ('\\n', 0), ('.', 5), ('آ', 13), ('«', 7), (')', 4), (' ', 1), (':', 6), ('!', 2)}\n"
          ],
          "name": "stdout"
        }
      ]
    },
    {
      "cell_type": "code",
      "metadata": {
        "colab": {
          "base_uri": "https://localhost:8080/"
        },
        "id": "DCaOazrSMqNo",
        "outputId": "56db1201-45b3-4c47-ec59-10e28b4d7ccf"
      },
      "source": [
        "char2index['(']"
      ],
      "execution_count": 16,
      "outputs": [
        {
          "output_type": "execute_result",
          "data": {
            "text/plain": [
              "3"
            ]
          },
          "metadata": {
            "tags": []
          },
          "execution_count": 16
        }
      ]
    },
    {
      "cell_type": "code",
      "metadata": {
        "id": "MKX7nYQMNP4T",
        "colab": {
          "base_uri": "https://localhost:8080/"
        },
        "outputId": "a4197ce2-8797-4f3b-e389-d2c20c06771e"
      },
      "source": [
        "print(\"{} char to int  {}\".format(repr(data[:300]),text_as_int[:300]))"
      ],
      "execution_count": 17,
      "outputs": [
        {
          "output_type": "stream",
          "text": [
            "'ای قبهٔ گردندهٔ بی روزن خضرا\\nبا قامت فرتوتی و با قوت برنا\\nفرزند توایم ای فلک، ای مادر بدمهر\\nای مادر ما چونکه همی کین کشی از ما؟\\nفرزند تو این تیره تن خامش خاکی است\\nپاکیزه خرد نیست نه این جوهر گویا\\nتن خانهٔ این گوهر والای شریف است\\nتو مادر این خانهٔ این گوهر والا\\nچون کار خود امروز در این خانه بسازم\\nمفر' char to int  [16 49  1 37 17 41 43  1 48 26 24 40 24 41 43  1 17 49  1 26 42 27 40  1\n",
            " 23 31 26 16  0 17 16  1 37 16 39 19  1 36 26 19 42 19 49  1 42  1 17 16\n",
            "  1 37 42 19  1 17 26 40 16  0 36 26 27 40 24  1 19 42 16 49 39  1 16 49\n",
            "  1 36 38 47  9  1 16 49  1 39 16 24 26  1 17 24 39 41 26  0 16 49  1 39\n",
            " 16 24 26  1 39 16  1 45 42 40 47 41  1 41 39 49  1 47 49 40  1 47 29 49\n",
            "  1 16 27  1 39 16 11  0 36 26 27 40 24  1 19 42  1 16 49 40  1 19 49 26\n",
            " 41  1 19 40  1 23 16 39 29  1 23 16 47 49  1 16 28 19  0 44 16 47 49 27\n",
            " 41  1 23 26 24  1 40 49 28 19  1 40 41  1 16 49 40  1 21 42 41 26  1 48\n",
            " 42 49 16  0 19 40  1 23 16 40 41 43  1 16 49 40  1 48 42 41 26  1 42 16\n",
            " 38 16 49  1 29 26 49 36  1 16 28 19  0 19 42  1 39 16 24 26  1 16 49 40\n",
            "  1 23 16 40 41 43  1 16 49 40  1 48 42 41 26  1 42 16 38 16  0 45 42 40\n",
            "  1 47 16 26  1 23 42 24  1 16 39 26 42 27  1 24 26  1 16 49 40  1 23 16\n",
            " 40 41  1 17 28 16 27 39  0 39 36 26]\n"
          ],
          "name": "stdout"
        }
      ]
    },
    {
      "cell_type": "code",
      "metadata": {
        "id": "AZ_lQzB8Eu-V"
      },
      "source": [
        "sequence_length = 100"
      ],
      "execution_count": 18,
      "outputs": []
    },
    {
      "cell_type": "code",
      "metadata": {
        "id": "6_yP4l17Gwgg"
      },
      "source": [
        "char_dataset = tf.data.Dataset.from_tensor_slices(text_as_int)"
      ],
      "execution_count": 19,
      "outputs": []
    },
    {
      "cell_type": "code",
      "metadata": {
        "colab": {
          "base_uri": "https://localhost:8080/"
        },
        "id": "lpaOILTGG9gE",
        "outputId": "99d874b6-eb8f-44b9-b810-e3d13464c81a"
      },
      "source": [
        "for i in char_dataset.take(10):\n",
        "  print(index2char[i])"
      ],
      "execution_count": 20,
      "outputs": [
        {
          "output_type": "stream",
          "text": [
            "ا\n",
            "ی\n",
            " \n",
            "ق\n",
            "ب\n",
            "ه\n",
            "ٔ\n",
            " \n",
            "گ\n",
            "ر\n"
          ],
          "name": "stdout"
        }
      ]
    },
    {
      "cell_type": "code",
      "metadata": {
        "id": "f93GAru7HL8F"
      },
      "source": [
        "sequence = char_dataset.batch(batch_size=sequence_length+1,drop_remainder=True)"
      ],
      "execution_count": 21,
      "outputs": []
    },
    {
      "cell_type": "code",
      "metadata": {
        "colab": {
          "base_uri": "https://localhost:8080/"
        },
        "id": "WgikQG-VJaGf",
        "outputId": "97dbbca3-379d-4390-9781-e139265c20f2"
      },
      "source": [
        "for i in sequence.take(6):\n",
        "  print(repr(\"\".join(index2char[i])))\n",
        "  print(\"===\")"
      ],
      "execution_count": 22,
      "outputs": [
        {
          "output_type": "stream",
          "text": [
            "'ای قبهٔ گردندهٔ بی روزن خضرا\\nبا قامت فرتوتی و با قوت برنا\\nفرزند توایم ای فلک، ای مادر بدمهر\\nای مادر م'\n",
            "===\n",
            "'ا چونکه همی کین کشی از ما؟\\nفرزند تو این تیره تن خامش خاکی است\\nپاکیزه خرد نیست نه این جوهر گویا\\nتن خان'\n",
            "===\n",
            "'هٔ این گوهر والای شریف است\\nتو مادر این خانهٔ این گوهر والا\\nچون کار خود امروز در این خانه بسازم\\nمفرد ب'\n",
            "===\n",
            "'روم، خانه سپارم به تو فردا\\nزندان تو آمد پسرا این تن و، زندان\\nزیبا نشود گرچه بپوشیش به دیبا\\nدیبای سخن '\n",
            "===\n",
            "'پوش به جان بر، که تو را جان\\nهرگز نشود ای پسر از دیبا زیبا\\nاین بند نبینی که خداوند نهاده است\\nبر ما که '\n",
            "===\n",
            "'نبیندش مگر خاطر بینا؟\\nدر بند مدارا کن و دربند میان را\\nدر بند مکن خیره طلب ملکت دارا\\nگر تو به مدارا کن'\n",
            "===\n"
          ],
          "name": "stdout"
        }
      ]
    },
    {
      "cell_type": "code",
      "metadata": {
        "id": "SIz-EOwxJ0lq"
      },
      "source": [
        "def split_input_target(biat):\n",
        "  input_text = biat[:-1]\n",
        "  output_text = biat[1:]\n",
        "  return input_text,output_text\n",
        "\n",
        "dataset = sequence.map(split_input_target)"
      ],
      "execution_count": 23,
      "outputs": []
    },
    {
      "cell_type": "code",
      "metadata": {
        "colab": {
          "base_uri": "https://localhost:8080/"
        },
        "id": "edbZ2Ev4Kq3r",
        "outputId": "97abfe7d-c1db-4f6e-852d-d0c58ae4580e"
      },
      "source": [
        "for input_data,target_data in dataset.take(1):\n",
        "  print(\"input : \",repr(\"\" .join(index2char[input_data])))\n",
        "  print(\"target: \",repr(\"\".join(index2char[target_data])))"
      ],
      "execution_count": 24,
      "outputs": [
        {
          "output_type": "stream",
          "text": [
            "input :  'ای قبهٔ گردندهٔ بی روزن خضرا\\nبا قامت فرتوتی و با قوت برنا\\nفرزند توایم ای فلک، ای مادر بدمهر\\nای مادر '\n",
            "target:  'ی قبهٔ گردندهٔ بی روزن خضرا\\nبا قامت فرتوتی و با قوت برنا\\nفرزند توایم ای فلک، ای مادر بدمهر\\nای مادر م'\n"
          ],
          "name": "stdout"
        }
      ]
    },
    {
      "cell_type": "code",
      "metadata": {
        "colab": {
          "base_uri": "https://localhost:8080/"
        },
        "id": "U4xqpPg_LTof",
        "outputId": "618a9964-11f5-45cc-ba98-a04ca4cf85a6"
      },
      "source": [
        "for i,(input_index,target_index) in enumerate(zip(input_data[:8],target_data[:8])):\n",
        "  print(\"i: \",i)\n",
        "  print(\"input char : {}\".format(index2char[input_index]))\n",
        "  print(\"output char : {}\".format(index2char[target_index]))"
      ],
      "execution_count": 25,
      "outputs": [
        {
          "output_type": "stream",
          "text": [
            "i:  0\n",
            "input char : ا\n",
            "output char : ی\n",
            "i:  1\n",
            "input char : ی\n",
            "output char :  \n",
            "i:  2\n",
            "input char :  \n",
            "output char : ق\n",
            "i:  3\n",
            "input char : ق\n",
            "output char : ب\n",
            "i:  4\n",
            "input char : ب\n",
            "output char : ه\n",
            "i:  5\n",
            "input char : ه\n",
            "output char : ٔ\n",
            "i:  6\n",
            "input char : ٔ\n",
            "output char :  \n",
            "i:  7\n",
            "input char :  \n",
            "output char : گ\n"
          ],
          "name": "stdout"
        }
      ]
    },
    {
      "cell_type": "code",
      "metadata": {
        "id": "RUBKu-ACX6gM"
      },
      "source": [
        "dataset = dataset.batch(batch_size=64,drop_remainder=True)"
      ],
      "execution_count": 26,
      "outputs": []
    },
    {
      "cell_type": "code",
      "metadata": {
        "id": "tgiDNka-ZKsB"
      },
      "source": [
        "char_size = len(alpha)\n",
        "embedding_dim = 256"
      ],
      "execution_count": 27,
      "outputs": []
    },
    {
      "cell_type": "code",
      "metadata": {
        "id": "QsiejGn8c10U"
      },
      "source": [
        "def model(char_size,embedding_dim,batch_size):\n",
        "  model = Sequential()\n",
        "  model.add(Embedding(input_dim= char_size,output_dim=embedding_dim,batch_input_shape=[batch_size,None]))\n",
        "  model.add(GRU(1024,return_sequences=True,stateful=True))\n",
        "  model.add(Dense(char_size))\n",
        "  return model"
      ],
      "execution_count": 28,
      "outputs": []
    },
    {
      "cell_type": "code",
      "metadata": {
        "id": "Fy5lVMH-fqV-"
      },
      "source": [
        "generator_model = model(char_size,embedding_dim,batch_size=32)"
      ],
      "execution_count": 29,
      "outputs": []
    },
    {
      "cell_type": "code",
      "metadata": {
        "colab": {
          "base_uri": "https://localhost:8080/"
        },
        "id": "jUaYgP1DgIdH",
        "outputId": "c5677076-c127-4286-e46c-f16ed83206c6"
      },
      "source": [
        "for input_example_batch,target_example_batch in dataset.take(1):\n",
        "    example_batch_predict = generator_model.predict(input_example_batch)\n",
        "    print(example_batch_predict.shape,\"(batch_size,sequence_length,char_size)\")"
      ],
      "execution_count": 30,
      "outputs": [
        {
          "output_type": "stream",
          "text": [
            "(64, 100, 50) (batch_size,sequence_length,char_size)\n"
          ],
          "name": "stdout"
        }
      ]
    },
    {
      "cell_type": "code",
      "metadata": {
        "id": "JI5mfU1fhQCr",
        "colab": {
          "base_uri": "https://localhost:8080/"
        },
        "outputId": "9377df49-df4a-4d65-eb26-80a6161f3441"
      },
      "source": [
        "generator_model.summary()"
      ],
      "execution_count": 31,
      "outputs": [
        {
          "output_type": "stream",
          "text": [
            "Model: \"sequential\"\n",
            "_________________________________________________________________\n",
            "Layer (type)                 Output Shape              Param #   \n",
            "=================================================================\n",
            "embedding (Embedding)        (32, None, 256)           12800     \n",
            "_________________________________________________________________\n",
            "gru (GRU)                    (32, None, 1024)          3938304   \n",
            "_________________________________________________________________\n",
            "dense (Dense)                (32, None, 50)            51250     \n",
            "=================================================================\n",
            "Total params: 4,002,354\n",
            "Trainable params: 4,002,354\n",
            "Non-trainable params: 0\n",
            "_________________________________________________________________\n"
          ],
          "name": "stdout"
        }
      ]
    },
    {
      "cell_type": "code",
      "metadata": {
        "colab": {
          "base_uri": "https://localhost:8080/"
        },
        "id": "NqL0DsjMpOQV",
        "outputId": "4748f284-f7a8-4864-a3a5-70bc717c57c7"
      },
      "source": [
        "example_batch_predict"
      ],
      "execution_count": 32,
      "outputs": [
        {
          "output_type": "execute_result",
          "data": {
            "text/plain": [
              "array([[[ 8.09852500e-03,  6.71371166e-03,  4.77014342e-03, ...,\n",
              "          7.90634006e-03,  1.24475174e-02,  7.51117151e-03],\n",
              "        [ 2.40039825e-03, -2.65332521e-03, -1.19820470e-03, ...,\n",
              "          7.77957262e-04,  1.20233092e-03, -6.59064529e-03],\n",
              "        [-8.85284413e-03, -6.05405914e-03,  7.58974114e-03, ...,\n",
              "         -1.09542962e-02,  1.25623413e-03,  1.49252471e-02],\n",
              "        ...,\n",
              "        [ 2.27395678e-03,  1.66106988e-02,  2.25978903e-03, ...,\n",
              "          7.33317574e-03,  1.16579290e-02,  3.57716088e-03],\n",
              "        [ 6.25213655e-03,  1.79355275e-02,  7.09537696e-03, ...,\n",
              "         -3.60330567e-03,  6.24039117e-03,  1.78191438e-02],\n",
              "        [-8.06760974e-03,  2.92868516e-03,  1.29702874e-02, ...,\n",
              "         -1.28520960e-02,  3.42893414e-03,  2.88674776e-02]],\n",
              "\n",
              "       [[ 8.09852500e-03,  6.71371166e-03,  4.77014342e-03, ...,\n",
              "          7.90634006e-03,  1.24475174e-02,  7.51117151e-03],\n",
              "        [-7.48904515e-03, -2.26145680e-03,  1.06152799e-02, ...,\n",
              "         -6.36087731e-03,  7.02011911e-03,  2.29869597e-02],\n",
              "        [-1.27643738e-02,  5.57382125e-04,  3.36191175e-03, ...,\n",
              "          5.75515023e-03, -2.03056261e-03,  8.90613254e-03],\n",
              "        ...,\n",
              "        [-8.57345667e-03, -3.27002816e-03,  5.99904638e-03, ...,\n",
              "         -8.57816450e-03,  7.01504759e-05,  1.48056382e-02],\n",
              "        [ 1.45886336e-02, -6.59642182e-03,  1.52071845e-02, ...,\n",
              "          6.06758927e-04, -6.71047997e-03,  1.41109223e-03],\n",
              "        [ 1.49291661e-02,  5.13533782e-03,  1.11889616e-02, ...,\n",
              "          7.12840259e-03,  8.90377443e-03,  7.57656153e-03]],\n",
              "\n",
              "       [[ 1.08769340e-02,  1.66416988e-02,  4.84501058e-03, ...,\n",
              "          8.84070061e-03, -1.49151962e-03,  1.19913230e-03],\n",
              "        [ 6.19578362e-03,  1.16012963e-02,  6.29195338e-03, ...,\n",
              "          1.23432314e-04, -9.17293876e-03,  1.68487225e-02],\n",
              "        [-7.04994705e-03, -1.44385733e-04,  1.06699960e-02, ...,\n",
              "         -9.37324017e-03, -2.94380588e-04,  3.12846415e-02],\n",
              "        ...,\n",
              "        [ 1.14154033e-02,  9.80544928e-03,  8.34720396e-03, ...,\n",
              "         -6.98600896e-04, -7.22974353e-03,  1.39211351e-02],\n",
              "        [ 5.33794099e-03,  1.60575435e-02,  3.05347121e-03, ...,\n",
              "          8.38354323e-03,  2.86707422e-03,  5.74127818e-03],\n",
              "        [-1.07998252e-02,  2.64270115e-03,  9.48138721e-03, ...,\n",
              "         -6.88408222e-03,  3.50046367e-03,  2.32025776e-02]],\n",
              "\n",
              "       ...,\n",
              "\n",
              "       [[ 1.01023372e-02,  1.43047376e-02,  8.28669593e-03, ...,\n",
              "         -1.38861258e-02, -3.71285784e-03,  2.73073874e-02],\n",
              "        [ 5.19412057e-03,  1.16297882e-03,  2.20853160e-03, ...,\n",
              "         -9.49698966e-03, -8.43178574e-03,  3.95456515e-03],\n",
              "        [-2.36183405e-06,  2.04026070e-03,  7.70728104e-04, ...,\n",
              "         -5.61940344e-03, -3.12459096e-03, -9.81689990e-03],\n",
              "        ...,\n",
              "        [-4.98498231e-03, -8.11652839e-03, -2.49261549e-03, ...,\n",
              "         -4.39131400e-03, -1.04837371e-02, -3.43230646e-03],\n",
              "        [ 1.28096696e-02, -8.57454818e-03, -4.01329948e-04, ...,\n",
              "          1.39445467e-02, -1.05748968e-02, -3.36828642e-03],\n",
              "        [-4.66982275e-03, -9.59954411e-03,  8.68751854e-03, ...,\n",
              "         -4.14572284e-03, -5.25589939e-03,  1.59649625e-02]],\n",
              "\n",
              "       [[ 8.76235776e-03,  3.48144211e-03, -9.98148927e-04, ...,\n",
              "          5.10948850e-03, -2.50498066e-04, -1.09480077e-03],\n",
              "        [ 6.10070350e-03,  6.97808713e-03,  6.04632893e-04, ...,\n",
              "         -3.00779543e-03,  3.10970750e-03, -7.29988283e-03],\n",
              "        [-7.88714644e-03, -1.30509748e-03,  8.83295201e-03, ...,\n",
              "         -1.31726936e-02,  8.44740425e-04,  1.50052691e-02],\n",
              "        ...,\n",
              "        [ 2.19748449e-03,  2.60553067e-03,  6.19627628e-03, ...,\n",
              "          2.60953116e-03, -2.51667039e-03,  1.60072334e-02],\n",
              "        [ 3.01031838e-03, -1.09823886e-04, -6.95054769e-06, ...,\n",
              "         -7.73543259e-03, -3.79071431e-03,  4.87548020e-03],\n",
              "        [-1.02252821e-02, -3.54339508e-03,  1.09190689e-02, ...,\n",
              "         -1.46803800e-02,  2.26701493e-04,  1.96252577e-02]],\n",
              "\n",
              "       [[ 9.59905796e-04,  3.46914539e-03,  2.27721781e-03, ...,\n",
              "         -1.04065612e-03,  1.47959953e-02, -5.12677245e-04],\n",
              "        [ 8.92129447e-03,  8.29536468e-03,  5.91121288e-03, ...,\n",
              "          8.33614543e-03,  1.77703369e-02,  7.70164281e-03],\n",
              "        [ 1.19016618e-02, -7.42813107e-03,  2.74131494e-03, ...,\n",
              "          1.77725777e-02,  1.31904744e-02,  3.00093228e-03],\n",
              "        ...,\n",
              "        [ 7.59558240e-03,  2.13820506e-02,  1.22692576e-03, ...,\n",
              "          1.09070847e-02,  5.30264620e-03,  9.13336873e-04],\n",
              "        [-7.95799494e-03,  3.81300482e-03,  7.72051793e-03, ...,\n",
              "         -4.81742620e-03,  6.84840977e-03,  2.31416542e-02],\n",
              "        [ 3.27631831e-03,  1.01198871e-02,  9.87530686e-03, ...,\n",
              "         -8.61724932e-03,  4.86119417e-03,  2.87862681e-02]]],\n",
              "      dtype=float32)"
            ]
          },
          "metadata": {
            "tags": []
          },
          "execution_count": 32
        }
      ]
    },
    {
      "cell_type": "code",
      "metadata": {
        "id": "lKZNZGA7pgIv"
      },
      "source": [
        ""
      ],
      "execution_count": null,
      "outputs": []
    }
  ]
}